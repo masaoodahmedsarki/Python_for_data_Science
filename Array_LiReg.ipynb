{
  "nbformat": 4,
  "nbformat_minor": 0,
  "metadata": {
    "colab": {
      "provenance": []
    },
    "kernelspec": {
      "name": "python3",
      "display_name": "Python 3"
    },
    "language_info": {
      "name": "python"
    }
  },
  "cells": [
    {
      "cell_type": "code",
      "execution_count": 1,
      "metadata": {
        "colab": {
          "base_uri": "https://localhost:8080/"
        },
        "id": "U0D2ROEzJdPv",
        "outputId": "8661ab82-df7e-4f24-b968-d07b31ce1382"
      },
      "outputs": [
        {
          "output_type": "stream",
          "name": "stdout",
          "text": [
            "Sorted Array: [1 1 2 3 3 4 5 5 5 6 9]\n"
          ]
        }
      ],
      "source": [
        "import numpy as np;\n",
        "# Create a NumPy array\n",
        "array = np.array([3, 1, 4, 1, 5, 9, 2, 6, 5, 3, 5])\n",
        "\n",
        "# Sort the array\n",
        "sorted_array = np.sort(array)\n",
        "\n",
        "# Print the sorted array\n",
        "print(\"Sorted Array:\", sorted_array)\n"
      ]
    },
    {
      "cell_type": "code",
      "source": [
        "import numpy as np;\n",
        "# Create a 2D NumPy array\n",
        "array_2d = np.array([[3, 1, 4], [1, 5, 9], [2, 6, 5]])\n",
        "\n",
        "# Sort each row in the 2D array\n",
        "sorted_array_2d = np.sort(array_2d, axis=1)\n",
        "\n",
        "# Print the sorted 2D array\n",
        "print(\"Sorted 2D Array by Rows:\\n\", sorted_array_2d)\n",
        "\n",
        "# Sort each column in the 2D array\n",
        "sorted_array_2d_col = np.sort(array_2d, axis=0)\n",
        "\n",
        "# Print the sorted 2D array by columns\n",
        "print(\"Sorted 2D Array by Columns:\\n\", sorted_array_2d_col)\n"
      ],
      "metadata": {
        "colab": {
          "base_uri": "https://localhost:8080/"
        },
        "id": "eG34Z9svQZ5Y",
        "outputId": "beb18129-9044-46bd-b2e2-1f3e1d06c3da"
      },
      "execution_count": 2,
      "outputs": [
        {
          "output_type": "stream",
          "name": "stdout",
          "text": [
            "Sorted 2D Array by Rows:\n",
            " [[1 3 4]\n",
            " [1 5 9]\n",
            " [2 5 6]]\n",
            "Sorted 2D Array by Columns:\n",
            " [[1 1 4]\n",
            " [2 5 5]\n",
            " [3 6 9]]\n"
          ]
        }
      ]
    },
    {
      "cell_type": "code",
      "source": [
        "import numpy as np;\n",
        "# Create an array (list)\n",
        "array = [1, 2, 3, 4, 5]\n",
        "print(\"Array:\", array)\n",
        "\n"
      ],
      "metadata": {
        "colab": {
          "base_uri": "https://localhost:8080/"
        },
        "id": "zjKN-vybQ-k5",
        "outputId": "7efb86c2-ef31-4f24-d17e-bf0f0942290a"
      },
      "execution_count": 4,
      "outputs": [
        {
          "output_type": "stream",
          "name": "stdout",
          "text": [
            "Array: [1, 2, 3, 4, 5]\n"
          ]
        }
      ]
    },
    {
      "cell_type": "code",
      "source": [
        "# Accessing elements\n",
        "print(\"First element:\", array[0])\n",
        "print(\"Last element:\", array[-2])\n"
      ],
      "metadata": {
        "colab": {
          "base_uri": "https://localhost:8080/"
        },
        "id": "Ib0k-EbORptx",
        "outputId": "cf705606-d793-4031-af3f-b33bb1b6a21d"
      },
      "execution_count": 6,
      "outputs": [
        {
          "output_type": "stream",
          "name": "stdout",
          "text": [
            "First element: 1\n",
            "Last element: 4\n"
          ]
        }
      ]
    },
    {
      "cell_type": "code",
      "source": [
        "# Modifying elements\n",
        "array[0] = 10\n",
        "print(\"Modified Array:\", array)\n"
      ],
      "metadata": {
        "colab": {
          "base_uri": "https://localhost:8080/"
        },
        "id": "9i7t3Fe-R37i",
        "outputId": "619c593c-5516-4eb2-fbd0-98c47ed73693"
      },
      "execution_count": 7,
      "outputs": [
        {
          "output_type": "stream",
          "name": "stdout",
          "text": [
            "Modified Array: [10, 2, 3, 4, 5]\n"
          ]
        }
      ]
    },
    {
      "cell_type": "code",
      "source": [
        "# Appending elements\n",
        "array.append(6)\n",
        "print(\"Array after appending:\", array)\n"
      ],
      "metadata": {
        "colab": {
          "base_uri": "https://localhost:8080/"
        },
        "id": "WQ72HPwrSALi",
        "outputId": "dd874fc5-0944-474e-ce71-f351a926cb48"
      },
      "execution_count": 8,
      "outputs": [
        {
          "output_type": "stream",
          "name": "stdout",
          "text": [
            "Array after appending: [10, 2, 3, 4, 5, 6]\n"
          ]
        }
      ]
    },
    {
      "cell_type": "code",
      "source": [
        "# Removing elements\n",
        "array.remove(3)\n",
        "print(\"Array after removing 3:\", array)\n"
      ],
      "metadata": {
        "colab": {
          "base_uri": "https://localhost:8080/"
        },
        "id": "YT8MTeMFSH8c",
        "outputId": "844eff69-71c9-453c-b821-12405b15dd34"
      },
      "execution_count": 9,
      "outputs": [
        {
          "output_type": "stream",
          "name": "stdout",
          "text": [
            "Array after removing 3: [10, 2, 4, 5, 6]\n"
          ]
        }
      ]
    },
    {
      "cell_type": "code",
      "source": [
        "# Inserting elements\n",
        "array.insert(2, 15)\n",
        "print(\"Array after inserting 15 at index 2:\", array)\n"
      ],
      "metadata": {
        "colab": {
          "base_uri": "https://localhost:8080/"
        },
        "id": "M2VJ0V2sSWwG",
        "outputId": "ba5ee896-4842-4fde-9518-be1e22792544"
      },
      "execution_count": 10,
      "outputs": [
        {
          "output_type": "stream",
          "name": "stdout",
          "text": [
            "Array after inserting 15 at index 2: [10, 2, 15, 4, 5, 6]\n"
          ]
        }
      ]
    },
    {
      "cell_type": "code",
      "source": [
        "# Sorting the array\n",
        "array.sort()\n",
        "print(\"Sorted Array:\", array)\n"
      ],
      "metadata": {
        "colab": {
          "base_uri": "https://localhost:8080/"
        },
        "id": "e89AYuRdSdmE",
        "outputId": "47eeb556-ef31-4ae8-9a99-daf8bf908204"
      },
      "execution_count": 11,
      "outputs": [
        {
          "output_type": "stream",
          "name": "stdout",
          "text": [
            "Sorted Array: [2, 4, 5, 6, 10, 15]\n"
          ]
        }
      ]
    },
    {
      "cell_type": "markdown",
      "source": [
        "*SIMPLE LINEAR REGRESSIONS PROGRAMS*"
      ],
      "metadata": {
        "id": "9uYz--zWTRwH"
      }
    },
    {
      "cell_type": "code",
      "source": [
        "import numpy as np\n",
        "import matplotlib.pyplot as plt\n",
        "from sklearn.linear_model import LinearRegression\n",
        "from sklearn.model_selection import train_test_split\n",
        "\n",
        "# Generate some sample data\n",
        "np.random.seed(0)\n",
        "X = 2 * np.random.rand(100, 1)\n",
        "y = 4 + 3 * X + np.random.randn(100, 1)\n",
        "\n",
        "# Split the data into training and testing sets\n",
        "X_train, X_test, y_train, y_test = train_test_split(X, y, test_size=0.2, random_state=42)\n",
        "\n",
        "# Create a Linear Regression model\n",
        "model = LinearRegression()\n",
        "\n",
        "# Fit the model to the training data\n",
        "model.fit(X_train, y_train)\n",
        "\n",
        "# Make predictions on the test data\n",
        "y_pred = model.predict(X_test)\n",
        "\n",
        "# Plot the training data\n",
        "plt.scatter(X_train, y_train, color='blue', label='Training data')\n",
        "# Plot the test data\n",
        "plt.scatter(X_test, y_test, color='green', label='Testing data')\n",
        "# Plot the regression line\n",
        "plt.plot(X_test, y_pred, color='red', linewidth=2, label='Prediction')\n",
        "plt.legend()\n",
        "plt.xlabel('X')\n",
        "plt.ylabel('y')\n",
        "plt.title('Linear Regression')\n",
        "plt.show()\n",
        "\n",
        "\n",
        "\n",
        "\n",
        "\n",
        "\n"
      ],
      "metadata": {
        "colab": {
          "base_uri": "https://localhost:8080/",
          "height": 472
        },
        "id": "dEFV14VWTeih",
        "outputId": "c833087d-5694-4683-f21b-c8ea26dfca47"
      },
      "execution_count": 19,
      "outputs": [
        {
          "output_type": "display_data",
          "data": {
            "text/plain": [
              "<Figure size 640x480 with 1 Axes>"
            ],
            "image/png": "[encoded data removed]"
          },
          "metadata": {}
        }
      ]
    }
  ]
}