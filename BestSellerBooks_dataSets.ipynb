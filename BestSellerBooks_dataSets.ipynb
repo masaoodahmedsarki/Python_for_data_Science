{
  "nbformat": 4,
  "nbformat_minor": 0,
  "metadata": {
    "colab": {
      "provenance": []
    },
    "kernelspec": {
      "name": "python3",
      "display_name": "Python 3"
    },
    "language_info": {
      "name": "python"
    }
  },
  "cells": [
    {
      "cell_type": "code",
      "execution_count": 1,
      "metadata": {
        "colab": {
          "base_uri": "https://localhost:8080/"
        },
        "id": "2QeB5n12eo4j",
        "outputId": "d60799b9-0c43-44f3-c5a2-27e5c4c2246e"
      },
      "outputs": [
        {
          "output_type": "stream",
          "name": "stdout",
          "text": [
            "                                           Book Name         Author Name  \\\n",
            "0  Maths Concept King All Formulas and Theorum | ...    Gagan Pratap Sir   \n",
            "1  BlackBook of English Vocabulary May 2024 by Ni...        Nikhil Gupta   \n",
            "2  Atomic Habits : the life-changing million-copy...         James Clear   \n",
            "3  My First Library: Boxset of 10 Board Books for...  Wonder House Books   \n",
            "4  Lucent General Knowledge - New Reduced Price E...         Binay Karna   \n",
            "\n",
            "   Rating    Price  \n",
            "0     4.7  ₹239.00  \n",
            "1     4.5  ₹299.00  \n",
            "2     4.6  ₹476.00  \n",
            "3     4.5  ₹399.00  \n",
            "4     4.4  ₹209.00  \n"
          ]
        }
      ],
      "source": [
        "import pandas as pd\n",
        "\n",
        "# Assuming the uploaded file is named 'your_file.csv'\n",
        "df = pd.read_csv('BestSellerbooks.csv')\n",
        "\n",
        "# Display the first few rows of the dataframe\n",
        "print(df.head())\n"
      ]
    },
    {
      "cell_type": "code",
      "source": [
        "# Display the first few rows\n",
        "print(df.head())"
      ],
      "metadata": {
        "colab": {
          "base_uri": "https://localhost:8080/"
        },
        "id": "6JEWDGLmgaEA",
        "outputId": "bd9b8b06-a54e-4de8-eb69-cea08eb0119d"
      },
      "execution_count": 2,
      "outputs": [
        {
          "output_type": "stream",
          "name": "stdout",
          "text": [
            "                                           Book Name         Author Name  \\\n",
            "0  Maths Concept King All Formulas and Theorum | ...    Gagan Pratap Sir   \n",
            "1  BlackBook of English Vocabulary May 2024 by Ni...        Nikhil Gupta   \n",
            "2  Atomic Habits : the life-changing million-copy...         James Clear   \n",
            "3  My First Library: Boxset of 10 Board Books for...  Wonder House Books   \n",
            "4  Lucent General Knowledge - New Reduced Price E...         Binay Karna   \n",
            "\n",
            "   Rating    Price  \n",
            "0     4.7  ₹239.00  \n",
            "1     4.5  ₹299.00  \n",
            "2     4.6  ₹476.00  \n",
            "3     4.5  ₹399.00  \n",
            "4     4.4  ₹209.00  \n"
          ]
        }
      ]
    },
    {
      "cell_type": "code",
      "source": [
        "# Display the last few rows\n",
        "print(df.tail())"
      ],
      "metadata": {
        "colab": {
          "base_uri": "https://localhost:8080/"
        },
        "id": "PEH4pZNZgdVS",
        "outputId": "5d5bc3f2-abad-4f93-ef4b-bb95935ae78b"
      },
      "execution_count": 3,
      "outputs": [
        {
          "output_type": "stream",
          "name": "stdout",
          "text": [
            "                                             Book Name  \\\n",
            "395            Shrimad Bhagwat Geeta Yatharoop (Hindi)   \n",
            "396  Educart CBSE Class 10 One Shot Question Bank 2...   \n",
            "397  How to Win Friends and Influence People : Orig...   \n",
            "398                                    RAM C/O ANANDHI   \n",
            "399  SSC TCS PYQs Mathematics Chapterwise & Typewis...   \n",
            "\n",
            "                              Author Name  Rating      Price  \n",
            "395  A.C. Bhaktivendanta Swami Prabhupada     4.8    ₹200.00  \n",
            "396                        Prashant Kirad     4.5  ₹1,357.00  \n",
            "397                         Dale Carnegie     4.5    ₹135.00  \n",
            "398                     AKHIL P DHARMAJAN     4.4    ₹306.00  \n",
            "399  Kiran Institute of Career Excellence     4.1    ₹548.00  \n"
          ]
        }
      ]
    },
    {
      "cell_type": "code",
      "source": [
        "# Get the shape of the DataFrame (number of rows and columns)\n",
        "print(df.shape)"
      ],
      "metadata": {
        "colab": {
          "base_uri": "https://localhost:8080/"
        },
        "id": "DKyL6mR6goQQ",
        "outputId": "d6f52d58-7ee9-45ba-8f1c-9b8b5645daec"
      },
      "execution_count": 4,
      "outputs": [
        {
          "output_type": "stream",
          "name": "stdout",
          "text": [
            "(400, 4)\n"
          ]
        }
      ]
    },
    {
      "cell_type": "code",
      "source": [
        "# Get a summary of the DataFrame\n",
        "print(df.info())"
      ],
      "metadata": {
        "colab": {
          "base_uri": "https://localhost:8080/"
        },
        "id": "W9tNf_m3gw-S",
        "outputId": "9a9b981c-29e6-4fd8-9abe-84c7f868eb27"
      },
      "execution_count": 5,
      "outputs": [
        {
          "output_type": "stream",
          "name": "stdout",
          "text": [
            "<class 'pandas.core.frame.DataFrame'>\n",
            "RangeIndex: 400 entries, 0 to 399\n",
            "Data columns (total 4 columns):\n",
            " #   Column       Non-Null Count  Dtype  \n",
            "---  ------       --------------  -----  \n",
            " 0   Book Name    400 non-null    object \n",
            " 1   Author Name  400 non-null    object \n",
            " 2   Rating       400 non-null    float64\n",
            " 3   Price        400 non-null    object \n",
            "dtypes: float64(1), object(3)\n",
            "memory usage: 12.6+ KB\n",
            "None\n"
          ]
        }
      ]
    },
    {
      "cell_type": "code",
      "source": [
        "# Get descriptive statistics\n",
        "print(df.describe())"
      ],
      "metadata": {
        "colab": {
          "base_uri": "https://localhost:8080/"
        },
        "id": "4Mk3kq4Cg43W",
        "outputId": "787c107d-b67a-4e12-bae0-911924a29529"
      },
      "execution_count": 6,
      "outputs": [
        {
          "output_type": "stream",
          "name": "stdout",
          "text": [
            "           Rating\n",
            "count  400.000000\n",
            "mean     4.460000\n",
            "std      0.188916\n",
            "min      3.600000\n",
            "25%      4.400000\n",
            "50%      4.500000\n",
            "75%      4.600000\n",
            "max      4.800000\n"
          ]
        }
      ]
    },
    {
      "cell_type": "code",
      "source": [
        "# Rename columns\n",
        "df.rename(columns={'Rating': 'Rate_my_books'}, inplace=True)\n",
        "df.rename(columns={'Price': 'Price of Books'}, inplace=True)\n",
        "# Display the first few rows of the dataframe\n",
        "print(df.head())"
      ],
      "metadata": {
        "colab": {
          "base_uri": "https://localhost:8080/"
        },
        "id": "PnIxzIaphBgN",
        "outputId": "4438348a-0438-43c7-c44f-f9e95464aaa5"
      },
      "execution_count": 10,
      "outputs": [
        {
          "output_type": "stream",
          "name": "stdout",
          "text": [
            "                                           Book Name         Author Name  \\\n",
            "0  Maths Concept King All Formulas and Theorum | ...    Gagan Pratap Sir   \n",
            "1  BlackBook of English Vocabulary May 2024 by Ni...        Nikhil Gupta   \n",
            "2  Atomic Habits : the life-changing million-copy...         James Clear   \n",
            "3  My First Library: Boxset of 10 Board Books for...  Wonder House Books   \n",
            "4  Lucent General Knowledge - New Reduced Price E...         Binay Karna   \n",
            "\n",
            "   Rate_my_books Price of Books  \n",
            "0            4.7        ₹239.00  \n",
            "1            4.5        ₹299.00  \n",
            "2            4.6        ₹476.00  \n",
            "3            4.5        ₹399.00  \n",
            "4            4.4        ₹209.00  \n"
          ]
        }
      ]
    },
    {
      "cell_type": "code",
      "source": [
        "# Sort the DataFrame by a specific column\n",
        "sorted_df = df.sort_values(by='Price of Books', ascending=True)\n",
        "# Display the first few rows of the dataframe\n",
        "print(df.head())"
      ],
      "metadata": {
        "colab": {
          "base_uri": "https://localhost:8080/"
        },
        "id": "ojajfkrDh45w",
        "outputId": "356bafe8-7fcc-4bd9-f1ec-8f8b9e4fa466"
      },
      "execution_count": 14,
      "outputs": [
        {
          "output_type": "stream",
          "name": "stdout",
          "text": [
            "                                           Book Name         Author Name  \\\n",
            "0  Maths Concept King All Formulas and Theorum | ...    Gagan Pratap Sir   \n",
            "1  BlackBook of English Vocabulary May 2024 by Ni...        Nikhil Gupta   \n",
            "2  Atomic Habits : the life-changing million-copy...         James Clear   \n",
            "3  My First Library: Boxset of 10 Board Books for...  Wonder House Books   \n",
            "4  Lucent General Knowledge - New Reduced Price E...         Binay Karna   \n",
            "\n",
            "   Rate_my_books Price of Books  \n",
            "0            4.7        ₹239.00  \n",
            "1            4.5        ₹299.00  \n",
            "2            4.6        ₹476.00  \n",
            "3            4.5        ₹399.00  \n",
            "4            4.4        ₹209.00  \n"
          ]
        }
      ]
    },
    {
      "cell_type": "code",
      "source": [
        "# Display a random sample of 10 rows\n",
        "print(df.sample(10))"
      ],
      "metadata": {
        "colab": {
          "base_uri": "https://localhost:8080/"
        },
        "id": "5A1UUw5ri_jG",
        "outputId": "9220b635-781b-4449-f60b-5ccd3e89e703"
      },
      "execution_count": 15,
      "outputs": [
        {
          "output_type": "stream",
          "name": "stdout",
          "text": [
            "                                             Book Name  \\\n",
            "303  My First Library: Boxset of 10 Board Books for...   \n",
            "273  1001 Ultimate Brain Booster Activities for 4+ ...   \n",
            "108  PW Calculus Core Fear No More Calculus Book By...   \n",
            "30   The Palace of Illusions: 10th Anniversary Edit...   \n",
            "122  Moral Story Books for Kids (Illustrated) - Eng...   \n",
            "137  All In One Social Science CBSE Class 10th Base...   \n",
            "104  Lucent General Knowledge - New Reduced Price E...   \n",
            "179  Writing Practice Boxset: Pack of 4 Books (Writ...   \n",
            "396  Educart CBSE Class 10 One Shot Question Bank 2...   \n",
            "16   Indian Polity for UPSC (English)|7th Edition|C...   \n",
            "\n",
            "                    Author Name  Rate_my_books Price of Books  \n",
            "303          Wonder House Books            4.5        ₹399.00  \n",
            "273                Team Pegasus            4.6        ₹297.00  \n",
            "108               Sachin Jakhar            4.7        ₹460.00  \n",
            "30   Chitra Banerjee Divakaruni            4.5        ₹324.35  \n",
            "122                 Maple Press            4.5        ₹220.00  \n",
            "137    Susmita Dhar Kriti Arora            4.2        ₹375.00  \n",
            "104                 Binay Karna            4.4        ₹209.00  \n",
            "179          Wonder House Books            4.3        ₹199.00  \n",
            "396              Prashant Kirad            4.5      ₹1,357.00  \n",
            "16                 M Laxmikanth            4.6        ₹739.00  \n"
          ]
        }
      ]
    }
  ]
}